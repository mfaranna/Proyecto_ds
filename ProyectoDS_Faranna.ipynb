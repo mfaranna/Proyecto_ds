{
 "cells": [
  {
   "cell_type": "markdown",
   "metadata": {},
   "source": [
    "# Objetivo\n",
    "Predecir si el paciente va a sufrir un accidente cerebro vascular.\n",
    "\n",
    "# Contexto comercial\n",
    "Según la OMS (Organización Mundial de la Salud) la segunda causa de muerte más frecuente en el mundo es el accidente cerebro vascular, responsable del 11% de las muertes aproximadamente. Entonces, se nececesita predecir si el paciente es propenso a sufrir un ACV para así tomar medidas al respecto para poder prevenirlo.\n",
    "\n",
    "# Problema comercial\n",
    "Para poder predecir si el paciente va a sufrir de un accidente cerebro vascular se debe analizar cuáles son los factores que influyen en la desencadenación del mismo. Es así como, sabiendo las particularidades del paciente que hacen que esté sea propenso o no a sufrir un ACV, se idea el modelo de predicción.\n",
    "\n",
    "# Contexto analítico\n",
    "Para poder desarrollar el modelo se cuenta con diferentes variables como; la edad, el género y diferentes condiciones de salud del paciente.\n",
    "\n",
    "Cada fila del dataset almacena la información de un paciente, las variables que incluye son:\n",
    "\n",
    "* Id: identificador único\n",
    "* Género: femenino, masculino u otro.\n",
    "* Hipertensión: 0 si el paciente no tiene hipertensión, 1 si el paciente si tiene.\n",
    "* Cardiopatía: 0 si el paciente no presenta ninguna cardiopatía, 1 si el paciente si presenta.\n",
    "* Alguna vez casado: Si o no.\n",
    "* Tipo de trabajo: Privado, cuenta propia, empleado estatal, menor de edad o nunca trabajo.\n",
    "* Tipo de residente: Urbano o Rural\n",
    "* Nivel de glucosa en sangre promedio.\n",
    "* Índice de masa corporal (IMC).\n",
    "* Estado de fumador: Fumaba anteriormente, nunca fumó, fuma o no se sabe.\n",
    "* ACV: 1 si el paciente tuvo un ACV, 0 si el paciente no tuvo.\n"
   ]
  },
  {
   "cell_type": "code",
   "execution_count": 6,
   "metadata": {},
   "outputs": [
    {
     "name": "stdout",
     "output_type": "stream",
     "text": [
      "      id  gender   age  hypertension  heart_disease ever_married  \\\n",
      "0   9046    Male  67.0             0              1          Yes   \n",
      "1  51676  Female  61.0             0              0          Yes   \n",
      "2  31112    Male  80.0             0              1          Yes   \n",
      "3  60182  Female  49.0             0              0          Yes   \n",
      "4   1665  Female  79.0             1              0          Yes   \n",
      "\n",
      "       work_type Residence_type  avg_glucose_level   bmi   smoking_status  \\\n",
      "0        Private          Urban             228.69  36.6  formerly smoked   \n",
      "1  Self-employed          Rural             202.21   NaN     never smoked   \n",
      "2        Private          Rural             105.92  32.5     never smoked   \n",
      "3        Private          Urban             171.23  34.4           smokes   \n",
      "4  Self-employed          Rural             174.12  24.0     never smoked   \n",
      "\n",
      "   stroke  \n",
      "0       1  \n",
      "1       1  \n",
      "2       1  \n",
      "3       1  \n",
      "4       1  \n"
     ]
    }
   ],
   "source": [
    "import numpy as np\n",
    "import pandas as pd\n",
    "import requests\n",
    "from io import StringIO\n",
    "\n",
    "import matplotlib as mpl\n",
    "import matplotlib.pyplot as plt\n",
    "import seaborn as sns\n",
    "\n",
    "url='https://drive.google.com/file/d/1avIUmiYaXRb5xyxYmMSRPItSxh72w4Ur/view?usp=sharing'\n",
    "\n",
    "file_id = url.split('/')[-2]\n",
    "dwn_url='https://drive.google.com/uc?export=download&id=' + file_id\n",
    "url2 = requests.get(dwn_url).text\n",
    "csv_raw = StringIO(url2)\n",
    "df = pd.read_csv(csv_raw)\n",
    "print(df.head())\n",
    "\n",
    "# Librerías para arboles de decision \n",
    "from sklearn.tree import DecisionTreeClassifier\n",
    "from sklearn import tree\n",
    "from sklearn.tree import DecisionTreeClassifier, plot_tree\n",
    "# Librerias para regresión logística\n",
    "import statsmodels.api as sm\n",
    "import statsmodels.formula.api as smf\n",
    "from sklearn.impute import SimpleImputer\n"
   ]
  },
  {
   "cell_type": "markdown",
   "metadata": {},
   "source": [
    "Se comienza con un análisis exploratorio de las variables, para poder tener una vista general de los datos."
   ]
  },
  {
   "cell_type": "markdown",
   "metadata": {},
   "source": [
    "Nuestra estructura ya esta diseñada en el dataset.\n",
    "## Variable Target \n",
    "Binaria: Indica 1 si la persona sufrió un ACV y 0 si no sufrió un ACV.\n",
    "## Features\n",
    "Las demás columnas presentes en el dataset."
   ]
  },
  {
   "cell_type": "markdown",
   "metadata": {},
   "source": [
    "# Primera exploración"
   ]
  },
  {
   "cell_type": "code",
   "execution_count": 3,
   "metadata": {},
   "outputs": [
    {
     "name": "stdout",
     "output_type": "stream",
     "text": [
      "      id  gender   age hypertension heart_disease ever_married      work_type  \\\n",
      "0   9046  Hombre  67.0           No            Si           Si        Privado   \n",
      "1  51676   Mujer  61.0           No            No           Si  Cuenta propia   \n",
      "2  31112  Hombre  80.0           No            Si           Si        Privado   \n",
      "3  60182   Mujer  49.0           No            No           Si        Privado   \n",
      "4   1665   Mujer  79.0           Si            No           Si  Cuenta propia   \n",
      "\n",
      "  Residence_type  avg_glucose_level   bmi        smoking_status stroke  \n",
      "0         Urbano             228.69  36.6  Fumaba anteriormente     Si  \n",
      "1          Rural             202.21   NaN            Nunca fumó     Si  \n",
      "2          Rural             105.92  32.5            Nunca fumó     Si  \n",
      "3         Urbano             171.23  34.4                  Fuma     Si  \n",
      "4          Rural             174.12  24.0            Nunca fumó     Si  \n"
     ]
    }
   ],
   "source": [
    "df['stroke'] = df['stroke'].replace([0, 1], ['No', 'Si'])\n",
    "df['hypertension'] = df['hypertension'].replace([0, 1], ['No', 'Si'])\n",
    "df['heart_disease'] = df['heart_disease'].replace([0, 1], ['No', 'Si'])\n",
    "df['ever_married']= df['ever_married'].replace(['Yes', 'No'], ['Si', 'No'])\n",
    "df['work_type']= df['work_type'].replace([\"Private\", \"Self-employed\", \"Govt_jov\",\"children\", \"Never_worked\", ], ['Privado', 'Cuenta propia', 'Empleado estatal', 'Menor de edad', 'Nunca trabajo'])\n",
    "df['Residence_type']= df['Residence_type'].replace(['Urban', 'Rural'], ['Urbano', 'Rural'])\n",
    "df['smoking_status']= df['smoking_status'].replace([\"formerly smoked\", \"never smoked\", \"smokes\", \"Unknown\"], ['Fumaba anteriormente', 'Nunca fumó', 'Fuma', 'No se sabe'])\n",
    "df['gender']= df['gender'].replace(['Male', 'Female','Other'], ['Hombre', 'Mujer','Otro'])\n",
    "print(df.head())\n"
   ]
  },
  {
   "cell_type": "code",
   "execution_count": 3,
   "metadata": {},
   "outputs": [
    {
     "name": "stdout",
     "output_type": "stream",
     "text": [
      "                 id          age  hypertension  heart_disease  \\\n",
      "count   5110.000000  5110.000000   5110.000000    5110.000000   \n",
      "mean   36517.829354    43.226614      0.097456       0.054012   \n",
      "std    21161.721625    22.612647      0.296607       0.226063   \n",
      "min       67.000000     0.080000      0.000000       0.000000   \n",
      "25%    17741.250000    25.000000      0.000000       0.000000   \n",
      "50%    36932.000000    45.000000      0.000000       0.000000   \n",
      "75%    54682.000000    61.000000      0.000000       0.000000   \n",
      "max    72940.000000    82.000000      1.000000       1.000000   \n",
      "\n",
      "       avg_glucose_level          bmi       stroke  \n",
      "count        5110.000000  4909.000000  5110.000000  \n",
      "mean          106.147677    28.893237     0.048728  \n",
      "std            45.283560     7.854067     0.215320  \n",
      "min            55.120000    10.300000     0.000000  \n",
      "25%            77.245000    23.500000     0.000000  \n",
      "50%            91.885000    28.100000     0.000000  \n",
      "75%           114.090000    33.100000     0.000000  \n",
      "max           271.740000    97.600000     1.000000  \n"
     ]
    }
   ],
   "source": [
    "print(df.describe())"
   ]
  },
  {
   "cell_type": "code",
   "execution_count": 31,
   "metadata": {},
   "outputs": [
    {
     "data": {
      "text/plain": [
       "Text(0.5, 1.0, 'Gráfico N°1: Cantidad de personas que pasaron o no por un ACV')"
      ]
     },
     "execution_count": 31,
     "metadata": {},
     "output_type": "execute_result"
    },
    {
     "data": {
      "image/png": "[encoded data removed]",
      "text/plain": [
       "<Figure size 432x288 with 1 Axes>"
      ]
     },
     "metadata": {
      "needs_background": "light"
     },
     "output_type": "display_data"
    }
   ],
   "source": [
    "#GRAFICO CON SEABORN\n",
    "plt.figure()\n",
    "sns.countplot(data = df,\n",
    "              x = 'stroke',palette=['#8093F1','#72DDF7'])\n",
    "plt.xlabel(\"Ocurrencia de ACV\")\n",
    "plt.ylabel(\"Frecuencia absoluta\")\n",
    "plt.title(\"Gráfico N°1: Cantidad de personas que pasaron o no por un ACV\")\n",
    "\n",
    "\n"
   ]
  },
  {
   "cell_type": "code",
   "execution_count": 5,
   "metadata": {},
   "outputs": [
    {
     "name": "stdout",
     "output_type": "stream",
     "text": [
      "   Frecuencia absoluta  Porcentaje\n",
      "0                 4861    0.951272\n",
      "1                  249    0.048728\n"
     ]
    }
   ],
   "source": [
    "frec =df['stroke'].value_counts()\n",
    "porc = df['stroke'].value_counts(normalize=True)\n",
    "\n",
    "res = pd.concat([frec, porc], axis=1)\\\n",
    "        .set_axis(['Frecuencia absoluta', 'Porcentaje'], axis=1, inplace=False)\n",
    "\n",
    "print(res)"
   ]
  },
  {
   "cell_type": "markdown",
   "metadata": {},
   "source": [
    "En el gráfico 1 se observa que la proporción de pacientes en el dataset que vivenciaron un ACV fueron muy pocas, aproximadamente solo el 5% del total de pacientes presentes en el dataset sufrieron un ACV."
   ]
  },
  {
   "cell_type": "code",
   "execution_count": 18,
   "metadata": {},
   "outputs": [
    {
     "data": {
      "text/plain": [
       "[Text(0.5, 0, 'Nivel medio de glucosa en sangre'),\n",
       " Text(0, 0.5, 'Frecuencia absoluta')]"
      ]
     },
     "execution_count": 18,
     "metadata": {},
     "output_type": "execute_result"
    },
    {
     "data": {
      "image/png": "[encoded data removed]",
      "text/plain": [
       "<Figure size 1440x576 with 3 Axes>"
      ]
     },
     "metadata": {},
     "output_type": "display_data"
    }
   ],
   "source": [
    "#GRÁFICOS CON SEABORN\n",
    "\n",
    "fig=plt.figure(figsize=(20,8),facecolor='white')\n",
    "gs=fig.add_gridspec(1,3)\n",
    "ax=[None for i in range(3)]\n",
    "ax[0]=fig.add_subplot(gs[0,0])\n",
    "ax[1]=fig.add_subplot(gs[0,1])\n",
    "ax[2]=fig.add_subplot(gs[0,2])\n",
    "\n",
    "\n",
    "\n",
    "sns.histplot(x=df['bmi'],ax=ax[0], color='#ffafcc',alpha=1,zorder=2,linewidth=1,edgecolor='black',shrink=0.5).set(title = 'Gráfico N° 2: Distribución del IMC de los pacientes')\n",
    "ax[0].set(xlabel='IMC', ylabel='Frecuencia absoluta')\n",
    "sns.histplot(x=df['age'],ax=ax[1], color='#ffafcc', alpha=1,zorder=2,linewidth=1,edgecolor='black',shrink=0.5).set(title = 'Gráfico N° 3: Distribución de la edad de los pacientes')\n",
    "ax[1].set(xlabel='Edad', ylabel='Frecuencia absoluta')\n",
    "sns.histplot(x=df['avg_glucose_level'],ax=ax[2], color='#ffafcc', alpha=1,zorder=2,linewidth=1,edgecolor='black',shrink=0.5).set(title = 'Gráfico N° 4: Distribución del nivel de glucosa en sangre de los pacientes')\n",
    "ax[2].set(xlabel='Nivel medio de glucosa en sangre', ylabel='Frecuencia absoluta')"
   ]
  },
  {
   "cell_type": "code",
   "execution_count": 17,
   "metadata": {},
   "outputs": [
    {
     "data": {
      "text/html": [
       "<div>\n",
       "<style scoped>\n",
       "    .dataframe tbody tr th:only-of-type {\n",
       "        vertical-align: middle;\n",
       "    }\n",
       "\n",
       "    .dataframe tbody tr th {\n",
       "        vertical-align: top;\n",
       "    }\n",
       "\n",
       "    .dataframe thead th {\n",
       "        text-align: right;\n",
       "    }\n",
       "</style>\n",
       "<table border=\"1\" class=\"dataframe\">\n",
       "  <thead>\n",
       "    <tr style=\"text-align: right;\">\n",
       "      <th></th>\n",
       "      <th>bmi</th>\n",
       "      <th>age</th>\n",
       "      <th>avg_glucose_level</th>\n",
       "    </tr>\n",
       "  </thead>\n",
       "  <tbody>\n",
       "    <tr>\n",
       "      <th>mean</th>\n",
       "      <td>28.893237</td>\n",
       "      <td>43.226614</td>\n",
       "      <td>106.147677</td>\n",
       "    </tr>\n",
       "    <tr>\n",
       "      <th>median</th>\n",
       "      <td>28.100000</td>\n",
       "      <td>45.000000</td>\n",
       "      <td>91.885000</td>\n",
       "    </tr>\n",
       "    <tr>\n",
       "      <th>std</th>\n",
       "      <td>7.854067</td>\n",
       "      <td>22.612647</td>\n",
       "      <td>45.283560</td>\n",
       "    </tr>\n",
       "  </tbody>\n",
       "</table>\n",
       "</div>"
      ],
      "text/plain": [
       "              bmi        age  avg_glucose_level\n",
       "mean    28.893237  43.226614         106.147677\n",
       "median  28.100000  45.000000          91.885000\n",
       "std      7.854067  22.612647          45.283560"
      ]
     },
     "execution_count": 17,
     "metadata": {},
     "output_type": "execute_result"
    }
   ],
   "source": [
    "df[[\"bmi\",\"age\",\"avg_glucose_level\"]].agg(['mean','median','std'])\n",
    "\n"
   ]
  },
  {
   "cell_type": "markdown",
   "metadata": {},
   "source": [
    "Se realizan estos 3 gráficos en conjunto para analizar la distribución de las 3 variables númericas continuas presentes en el dataset. Se puede observar en el Gráfico 2 que el IMC de los pacientes se concentra alrededor de 25 y 30 como indica también la tabla (media y mediana aproximadamente iguales a 28), mientras que en el gráfico 4 vemos que la mayor parte de la gente tiene un nivel de glucosa en sangre entre 75 y 100. En cambio, en el Gráfico 3 se observa que la cantidad de personas en las diferentes edades es equitativa.\n",
    "En la tabla se observa la misma información que en los gráficos, se puede agregar que el promedio de la edad de los pacientes en el dataset es de 45 años con desvíos de 23 años aproximadamente respecto de su media, el IMC posee menos desvío respecto a su media que las otras dos variables analizadas."
   ]
  },
  {
   "cell_type": "code",
   "execution_count": 32,
   "metadata": {},
   "outputs": [
    {
     "data": {
      "text/plain": [
       "Text(0.5, 1.0, 'Gráfico N°5: Boxplot de IMC según si el paciente tuvo un ACV o no')"
      ]
     },
     "execution_count": 32,
     "metadata": {},
     "output_type": "execute_result"
    },
    {
     "data": {
      "image/png": "[encoded data removed]",
      "text/plain": [
       "<Figure size 432x288 with 1 Axes>"
      ]
     },
     "metadata": {
      "needs_background": "light"
     },
     "output_type": "display_data"
    }
   ],
   "source": [
    "#GRÁFICO CON SEAPLOT\n",
    "\n",
    "plt.figure()\n",
    "sns.boxplot(data = df,\n",
    "            x = 'stroke',\n",
    "            y = 'bmi',\n",
    "            showfliers = False,\n",
    "            palette=['#8093F1','#72DDF7'])\n",
    "plt.xlabel(\"Ocurrencia de ACV\")\n",
    "plt.ylabel(\"IMC\")\n",
    "plt.title(\"Gráfico N°5: Boxplot de IMC según si el paciente tuvo un ACV o no\")"
   ]
  },
  {
   "cell_type": "markdown",
   "metadata": {},
   "source": [
    "En el Gráfico 5 se visualiza que la mediana del IMC es levemente mayor para los que tuvieron un ACV que para los que no, pero los valores de IMC para los que tuvieron un ACV están más concentrados, es decir, tienen menor variabilidad que para los que no presentaron un ACV."
   ]
  },
  {
   "cell_type": "code",
   "execution_count": 20,
   "metadata": {},
   "outputs": [
    {
     "data": {
      "text/plain": [
       "Text(0.5, 1.0, 'Gráfico N°6: Boxplot del nivel de glucosa en sangre según si el paciente tuvo un ACV o no')"
      ]
     },
     "execution_count": 20,
     "metadata": {},
     "output_type": "execute_result"
    },
    {
     "data": {
      "image/png": "[encoded data removed]",
      "text/plain": [
       "<Figure size 432x288 with 1 Axes>"
      ]
     },
     "metadata": {
      "needs_background": "light"
     },
     "output_type": "display_data"
    }
   ],
   "source": [
    "plt.figure()\n",
    "sns.boxplot(data = df,\n",
    "            x = 'stroke',\n",
    "            y = 'avg_glucose_level',\n",
    "            showfliers = False,\n",
    "            palette=['#8093F1','#72DDF7'])\n",
    "plt.xlabel(\"Ocurrencia de ACV\")\n",
    "plt.ylabel(\"Nivel de glucosa en sangre\")\n",
    "plt.title(\"Gráfico N°6: Boxplot del nivel de glucosa en sangre según si el paciente tuvo un ACV o no\")"
   ]
  },
  {
   "cell_type": "markdown",
   "metadata": {},
   "source": [
    "En el Gráfico 6 se observa nuevamente que la mediana del nivel de glucosa en sangre suele ser levemente mayor para los pacientes que presentaron un ACV, pero estos pacientes también presentaron niveles más altos de glucosa en sangre que los que no presentaron un ACV, teniendo un mayor desvío respecto a la mediana."
   ]
  },
  {
   "cell_type": "code",
   "execution_count": 79,
   "metadata": {},
   "outputs": [
    {
     "data": {
      "text/plain": [
       "<matplotlib.legend.Legend at 0x1f24707b970>"
      ]
     },
     "execution_count": 79,
     "metadata": {},
     "output_type": "execute_result"
    },
    {
     "data": {
      "image/png": "[encoded data removed]",
      "text/plain": [
       "<Figure size 432x288 with 1 Axes>"
      ]
     },
     "metadata": {
      "needs_background": "light"
     },
     "output_type": "display_data"
    }
   ],
   "source": [
    "sns.countplot(data = df,\n",
    "              x = 'gender',\n",
    "              hue='stroke'\n",
    "              )\n",
    "plt.title('Gráfico 7: Cantidad de pacientes qué les dio un ACV según su género')\n",
    "plt.xlabel('Género')\n",
    "plt.ylabel('Frecuencia absoluta')\n",
    "plt.legend(title='ACV', loc='upper left', labels=['Si', 'No'])"
   ]
  },
  {
   "cell_type": "code",
   "execution_count": 80,
   "metadata": {},
   "outputs": [
    {
     "data": {
      "text/html": [
       "<div>\n",
       "<style scoped>\n",
       "    .dataframe tbody tr th:only-of-type {\n",
       "        vertical-align: middle;\n",
       "    }\n",
       "\n",
       "    .dataframe tbody tr th {\n",
       "        vertical-align: top;\n",
       "    }\n",
       "\n",
       "    .dataframe thead th {\n",
       "        text-align: right;\n",
       "    }\n",
       "</style>\n",
       "<table border=\"1\" class=\"dataframe\">\n",
       "  <thead>\n",
       "    <tr style=\"text-align: right;\">\n",
       "      <th></th>\n",
       "      <th>gender</th>\n",
       "      <th>stroke</th>\n",
       "      <th>percent</th>\n",
       "    </tr>\n",
       "  </thead>\n",
       "  <tbody>\n",
       "    <tr>\n",
       "      <th>0</th>\n",
       "      <td>Hombre</td>\n",
       "      <td>No</td>\n",
       "      <td>94.89</td>\n",
       "    </tr>\n",
       "    <tr>\n",
       "      <th>1</th>\n",
       "      <td>Hombre</td>\n",
       "      <td>Si</td>\n",
       "      <td>5.11</td>\n",
       "    </tr>\n",
       "    <tr>\n",
       "      <th>2</th>\n",
       "      <td>Mujer</td>\n",
       "      <td>No</td>\n",
       "      <td>95.29</td>\n",
       "    </tr>\n",
       "    <tr>\n",
       "      <th>3</th>\n",
       "      <td>Mujer</td>\n",
       "      <td>Si</td>\n",
       "      <td>4.71</td>\n",
       "    </tr>\n",
       "    <tr>\n",
       "      <th>4</th>\n",
       "      <td>Otro</td>\n",
       "      <td>No</td>\n",
       "      <td>100.00</td>\n",
       "    </tr>\n",
       "  </tbody>\n",
       "</table>\n",
       "</div>"
      ],
      "text/plain": [
       "   gender stroke  percent\n",
       "0  Hombre     No    94.89\n",
       "1  Hombre     Si     5.11\n",
       "2   Mujer     No    95.29\n",
       "3   Mujer     Si     4.71\n",
       "4    Otro     No   100.00"
      ]
     },
     "execution_count": 80,
     "metadata": {},
     "output_type": "execute_result"
    }
   ],
   "source": [
    "(df.groupby('gender')['stroke']\n",
    ".value_counts(normalize=True)\n",
    ".mul(100)\n",
    ".rename('percent')\n",
    ".reset_index()\n",
    ".round(2)\n",
    ")"
   ]
  },
  {
   "cell_type": "markdown",
   "metadata": {},
   "source": [
    "Se puede observar en el Gráfico 7 y en la tabla que el género no parece ser un factor de riesgo para un ACV, ya que el porcentaje de pacientes hombres y mujeres es el mismo tanto para los que tuvieron un ACV como para los que no."
   ]
  },
  {
   "cell_type": "code",
   "execution_count": 81,
   "metadata": {},
   "outputs": [
    {
     "data": {
      "text/plain": [
       "<matplotlib.legend.Legend at 0x1f2482e5a90>"
      ]
     },
     "execution_count": 81,
     "metadata": {},
     "output_type": "execute_result"
    },
    {
     "data": {
      "image/png": "[encoded data removed]",
      "text/plain": [
       "<Figure size 432x288 with 1 Axes>"
      ]
     },
     "metadata": {
      "needs_background": "light"
     },
     "output_type": "display_data"
    }
   ],
   "source": [
    "sns.countplot(data = df,\n",
    "              x = 'hypertension',\n",
    "              hue='stroke'\n",
    "              )\n",
    "plt.title('Gráfico 8: Cantidad de pacientes qué les dio un ACV según si tenían hipertensión o no')\n",
    "plt.xlabel('Hipertensión')\n",
    "plt.ylabel('Frecuencia absoluta')\n",
    "plt.legend(title='ACV', loc='upper left', labels=['Si','No'])\n"
   ]
  },
  {
   "cell_type": "code",
   "execution_count": 82,
   "metadata": {},
   "outputs": [
    {
     "data": {
      "text/html": [
       "<div>\n",
       "<style scoped>\n",
       "    .dataframe tbody tr th:only-of-type {\n",
       "        vertical-align: middle;\n",
       "    }\n",
       "\n",
       "    .dataframe tbody tr th {\n",
       "        vertical-align: top;\n",
       "    }\n",
       "\n",
       "    .dataframe thead th {\n",
       "        text-align: right;\n",
       "    }\n",
       "</style>\n",
       "<table border=\"1\" class=\"dataframe\">\n",
       "  <thead>\n",
       "    <tr style=\"text-align: right;\">\n",
       "      <th></th>\n",
       "      <th>hypertension</th>\n",
       "      <th>stroke</th>\n",
       "      <th>percent</th>\n",
       "    </tr>\n",
       "  </thead>\n",
       "  <tbody>\n",
       "    <tr>\n",
       "      <th>0</th>\n",
       "      <td>No</td>\n",
       "      <td>No</td>\n",
       "      <td>96.032090</td>\n",
       "    </tr>\n",
       "    <tr>\n",
       "      <th>1</th>\n",
       "      <td>No</td>\n",
       "      <td>Si</td>\n",
       "      <td>3.967910</td>\n",
       "    </tr>\n",
       "    <tr>\n",
       "      <th>2</th>\n",
       "      <td>Si</td>\n",
       "      <td>No</td>\n",
       "      <td>86.746988</td>\n",
       "    </tr>\n",
       "    <tr>\n",
       "      <th>3</th>\n",
       "      <td>Si</td>\n",
       "      <td>Si</td>\n",
       "      <td>13.253012</td>\n",
       "    </tr>\n",
       "  </tbody>\n",
       "</table>\n",
       "</div>"
      ],
      "text/plain": [
       "  hypertension stroke    percent\n",
       "0           No     No  96.032090\n",
       "1           No     Si   3.967910\n",
       "2           Si     No  86.746988\n",
       "3           Si     Si  13.253012"
      ]
     },
     "execution_count": 82,
     "metadata": {},
     "output_type": "execute_result"
    }
   ],
   "source": [
    "(df.groupby('hypertension')['stroke']\n",
    ".value_counts(normalize=True)\n",
    ".mul(100)\n",
    ".rename('percent')\n",
    ".reset_index()\n",
    ")"
   ]
  },
  {
   "cell_type": "markdown",
   "metadata": {},
   "source": [
    "Se puede observar más que nada de la tabla que dentro de los pacientes que tienen hipertensión el porcentaje de sufrir un ACV es un poco mayor que para los que no tienen hipertensión, esto puede indicar que la hipertensión es un factor de riesgo para un ACV."
   ]
  },
  {
   "cell_type": "code",
   "execution_count": 83,
   "metadata": {},
   "outputs": [
    {
     "data": {
      "text/plain": [
       "<matplotlib.legend.Legend at 0x1f248236070>"
      ]
     },
     "execution_count": 83,
     "metadata": {},
     "output_type": "execute_result"
    },
    {
     "data": {
      "image/png": "[encoded data removed]",
      "text/plain": [
       "<Figure size 432x288 with 1 Axes>"
      ]
     },
     "metadata": {
      "needs_background": "light"
     },
     "output_type": "display_data"
    }
   ],
   "source": [
    "sns.countplot(data = df,\n",
    "              x = 'heart_disease',\n",
    "              hue='stroke'\n",
    "              )\n",
    "plt.title('Gráfico 9: Cantidad de pacientes qué les dio un ACV según si tenían una cardiopatía o no')\n",
    "plt.xlabel('Cardiopatía')\n",
    "plt.ylabel('Frecuencia absoluta')\n",
    "plt.legend(title='ACV', loc='upper left', labels=['Si','No'])"
   ]
  },
  {
   "cell_type": "code",
   "execution_count": 84,
   "metadata": {},
   "outputs": [
    {
     "data": {
      "text/html": [
       "<div>\n",
       "<style scoped>\n",
       "    .dataframe tbody tr th:only-of-type {\n",
       "        vertical-align: middle;\n",
       "    }\n",
       "\n",
       "    .dataframe tbody tr th {\n",
       "        vertical-align: top;\n",
       "    }\n",
       "\n",
       "    .dataframe thead th {\n",
       "        text-align: right;\n",
       "    }\n",
       "</style>\n",
       "<table border=\"1\" class=\"dataframe\">\n",
       "  <thead>\n",
       "    <tr style=\"text-align: right;\">\n",
       "      <th></th>\n",
       "      <th>heart_disease</th>\n",
       "      <th>stroke</th>\n",
       "      <th>percent</th>\n",
       "    </tr>\n",
       "  </thead>\n",
       "  <tbody>\n",
       "    <tr>\n",
       "      <th>0</th>\n",
       "      <td>No</td>\n",
       "      <td>No</td>\n",
       "      <td>95.821266</td>\n",
       "    </tr>\n",
       "    <tr>\n",
       "      <th>1</th>\n",
       "      <td>No</td>\n",
       "      <td>Si</td>\n",
       "      <td>4.178734</td>\n",
       "    </tr>\n",
       "    <tr>\n",
       "      <th>2</th>\n",
       "      <td>Si</td>\n",
       "      <td>No</td>\n",
       "      <td>82.971014</td>\n",
       "    </tr>\n",
       "    <tr>\n",
       "      <th>3</th>\n",
       "      <td>Si</td>\n",
       "      <td>Si</td>\n",
       "      <td>17.028986</td>\n",
       "    </tr>\n",
       "  </tbody>\n",
       "</table>\n",
       "</div>"
      ],
      "text/plain": [
       "  heart_disease stroke    percent\n",
       "0            No     No  95.821266\n",
       "1            No     Si   4.178734\n",
       "2            Si     No  82.971014\n",
       "3            Si     Si  17.028986"
      ]
     },
     "execution_count": 84,
     "metadata": {},
     "output_type": "execute_result"
    }
   ],
   "source": [
    "(df.groupby('heart_disease')['stroke']\n",
    ".value_counts(normalize=True)\n",
    ".mul(100)\n",
    ".rename('percent')\n",
    ".reset_index()\n",
    ")"
   ]
  },
  {
   "cell_type": "code",
   "execution_count": null,
   "metadata": {},
   "outputs": [],
   "source": [
    "Se observa el mismo comportamiento que en la tabla de hipertensión, parece ser que los que sufren alguna cardiopatía tienen más chances de sufrir un ACV."
   ]
  },
  {
   "cell_type": "code",
   "execution_count": 85,
   "metadata": {},
   "outputs": [
    {
     "data": {
      "text/plain": [
       "<matplotlib.legend.Legend at 0x1f2482282e0>"
      ]
     },
     "execution_count": 85,
     "metadata": {},
     "output_type": "execute_result"
    },
    {
     "data": {
      "image/png": "[encoded data removed]",
      "text/plain": [
       "<Figure size 432x288 with 1 Axes>"
      ]
     },
     "metadata": {
      "needs_background": "light"
     },
     "output_type": "display_data"
    }
   ],
   "source": [
    "sns.countplot(data = df,\n",
    "              x = 'ever_married',\n",
    "              hue='stroke'\n",
    "              )\n",
    "plt.title('Gráfico 10: Cantidad de pacientes qué les dio un ACV según si se habían casado o no')\n",
    "plt.xlabel('Si alguna vez se casó')\n",
    "plt.ylabel('Frecuencia absoluta')\n",
    "plt.legend(title='ACV', loc='upper left', labels=['Si','No'])"
   ]
  },
  {
   "cell_type": "code",
   "execution_count": 86,
   "metadata": {},
   "outputs": [
    {
     "data": {
      "text/html": [
       "<div>\n",
       "<style scoped>\n",
       "    .dataframe tbody tr th:only-of-type {\n",
       "        vertical-align: middle;\n",
       "    }\n",
       "\n",
       "    .dataframe tbody tr th {\n",
       "        vertical-align: top;\n",
       "    }\n",
       "\n",
       "    .dataframe thead th {\n",
       "        text-align: right;\n",
       "    }\n",
       "</style>\n",
       "<table border=\"1\" class=\"dataframe\">\n",
       "  <thead>\n",
       "    <tr style=\"text-align: right;\">\n",
       "      <th></th>\n",
       "      <th>ever_married</th>\n",
       "      <th>stroke</th>\n",
       "      <th>percent</th>\n",
       "    </tr>\n",
       "  </thead>\n",
       "  <tbody>\n",
       "    <tr>\n",
       "      <th>0</th>\n",
       "      <td>No</td>\n",
       "      <td>No</td>\n",
       "      <td>98.349459</td>\n",
       "    </tr>\n",
       "    <tr>\n",
       "      <th>1</th>\n",
       "      <td>No</td>\n",
       "      <td>Si</td>\n",
       "      <td>1.650541</td>\n",
       "    </tr>\n",
       "    <tr>\n",
       "      <th>2</th>\n",
       "      <td>Si</td>\n",
       "      <td>No</td>\n",
       "      <td>93.438712</td>\n",
       "    </tr>\n",
       "    <tr>\n",
       "      <th>3</th>\n",
       "      <td>Si</td>\n",
       "      <td>Si</td>\n",
       "      <td>6.561288</td>\n",
       "    </tr>\n",
       "  </tbody>\n",
       "</table>\n",
       "</div>"
      ],
      "text/plain": [
       "  ever_married stroke    percent\n",
       "0           No     No  98.349459\n",
       "1           No     Si   1.650541\n",
       "2           Si     No  93.438712\n",
       "3           Si     Si   6.561288"
      ]
     },
     "execution_count": 86,
     "metadata": {},
     "output_type": "execute_result"
    }
   ],
   "source": [
    "(df.groupby('ever_married')['stroke']\n",
    ".value_counts(normalize=True)\n",
    ".mul(100)\n",
    ".rename('percent')\n",
    ".reset_index()\n",
    ")"
   ]
  },
  {
   "cell_type": "markdown",
   "metadata": {},
   "source": [
    "La diferencia de porcentajes en la tabla anterior es muy leve para los que alguna vez se casaron que para los que no, se podría sospechar que este no es un factor que afecte a la ocurrencia de un ACV."
   ]
  },
  {
   "cell_type": "code",
   "execution_count": 88,
   "metadata": {},
   "outputs": [
    {
     "data": {
      "text/plain": [
       "<matplotlib.legend.Legend at 0x1f248414370>"
      ]
     },
     "execution_count": 88,
     "metadata": {},
     "output_type": "execute_result"
    },
    {
     "data": {
      "image/png": "[encoded data removed]",
      "text/plain": [
       "<Figure size 432x288 with 1 Axes>"
      ]
     },
     "metadata": {
      "needs_background": "light"
     },
     "output_type": "display_data"
    }
   ],
   "source": [
    "sns.countplot(data = df,\n",
    "              x = 'work_type',\n",
    "              hue='stroke'\n",
    "              )\n",
    "plt.title('Gráfico 11: Cantidad de pacientes qué les dio un ACV según su tipo de trabajo')\n",
    "plt.xlabel('Tipo de trabajo')\n",
    "plt.ylabel('Frecuencia absoluta')\n",
    "plt.legend(title='ACV', loc='upper right', labels=['Si', 'No'])"
   ]
  },
  {
   "cell_type": "code",
   "execution_count": 92,
   "metadata": {},
   "outputs": [
    {
     "data": {
      "text/html": [
       "<div>\n",
       "<style scoped>\n",
       "    .dataframe tbody tr th:only-of-type {\n",
       "        vertical-align: middle;\n",
       "    }\n",
       "\n",
       "    .dataframe tbody tr th {\n",
       "        vertical-align: top;\n",
       "    }\n",
       "\n",
       "    .dataframe thead th {\n",
       "        text-align: right;\n",
       "    }\n",
       "</style>\n",
       "<table border=\"1\" class=\"dataframe\">\n",
       "  <thead>\n",
       "    <tr style=\"text-align: right;\">\n",
       "      <th></th>\n",
       "      <th>stroke</th>\n",
       "      <th>work_type</th>\n",
       "      <th>percent</th>\n",
       "    </tr>\n",
       "  </thead>\n",
       "  <tbody>\n",
       "    <tr>\n",
       "      <th>0</th>\n",
       "      <td>No</td>\n",
       "      <td>Privado</td>\n",
       "      <td>57.107591</td>\n",
       "    </tr>\n",
       "    <tr>\n",
       "      <th>1</th>\n",
       "      <td>No</td>\n",
       "      <td>Cuenta propia</td>\n",
       "      <td>15.511212</td>\n",
       "    </tr>\n",
       "    <tr>\n",
       "      <th>2</th>\n",
       "      <td>No</td>\n",
       "      <td>Menor de edad</td>\n",
       "      <td>14.091751</td>\n",
       "    </tr>\n",
       "    <tr>\n",
       "      <th>3</th>\n",
       "      <td>No</td>\n",
       "      <td>Govt_job</td>\n",
       "      <td>12.836865</td>\n",
       "    </tr>\n",
       "    <tr>\n",
       "      <th>4</th>\n",
       "      <td>No</td>\n",
       "      <td>Nunca trabajo</td>\n",
       "      <td>0.452582</td>\n",
       "    </tr>\n",
       "    <tr>\n",
       "      <th>5</th>\n",
       "      <td>Si</td>\n",
       "      <td>Privado</td>\n",
       "      <td>59.839357</td>\n",
       "    </tr>\n",
       "    <tr>\n",
       "      <th>6</th>\n",
       "      <td>Si</td>\n",
       "      <td>Cuenta propia</td>\n",
       "      <td>26.104418</td>\n",
       "    </tr>\n",
       "    <tr>\n",
       "      <th>7</th>\n",
       "      <td>Si</td>\n",
       "      <td>Govt_job</td>\n",
       "      <td>13.253012</td>\n",
       "    </tr>\n",
       "    <tr>\n",
       "      <th>8</th>\n",
       "      <td>Si</td>\n",
       "      <td>Menor de edad</td>\n",
       "      <td>0.803213</td>\n",
       "    </tr>\n",
       "  </tbody>\n",
       "</table>\n",
       "</div>"
      ],
      "text/plain": [
       "  stroke      work_type    percent\n",
       "0     No        Privado  57.107591\n",
       "1     No  Cuenta propia  15.511212\n",
       "2     No  Menor de edad  14.091751\n",
       "3     No       Govt_job  12.836865\n",
       "4     No  Nunca trabajo   0.452582\n",
       "5     Si        Privado  59.839357\n",
       "6     Si  Cuenta propia  26.104418\n",
       "7     Si       Govt_job  13.253012\n",
       "8     Si  Menor de edad   0.803213"
      ]
     },
     "execution_count": 92,
     "metadata": {},
     "output_type": "execute_result"
    }
   ],
   "source": [
    "(df.groupby('stroke')['work_type']\n",
    ".value_counts(normalize=True)\n",
    ".mul(100)\n",
    ".rename('percent')\n",
    ".reset_index()\n",
    ")"
   ]
  },
  {
   "cell_type": "markdown",
   "metadata": {},
   "source": [
    "La diferencia en las distintas categorías de tipo de trabajo para los pacientes que sufrieron un ACV como para los que no difieren muy poco, como en el caso anterior, se podría llegar a pensar que el tipo de trabajo no es un factor de riesgo."
   ]
  },
  {
   "cell_type": "code",
   "execution_count": 90,
   "metadata": {},
   "outputs": [
    {
     "data": {
      "text/plain": [
       "<matplotlib.legend.Legend at 0x1f2483c5040>"
      ]
     },
     "execution_count": 90,
     "metadata": {},
     "output_type": "execute_result"
    },
    {
     "data": {
      "image/png": "[encoded data removed]",
      "text/plain": [
       "<Figure size 432x288 with 1 Axes>"
      ]
     },
     "metadata": {
      "needs_background": "light"
     },
     "output_type": "display_data"
    }
   ],
   "source": [
    "sns.countplot(data = df,\n",
    "              x = 'Residence_type',\n",
    "              hue='stroke'\n",
    "              )\n",
    "plt.title('Gráfico 12: Cantidad de pacientes qué les dio un ACV según su residencia')\n",
    "plt.xlabel('Tipo de residencia')\n",
    "plt.ylabel('Frecuencia absoluta')\n",
    "plt.legend(title='ACV', loc='upper left', labels=['Si','No'])"
   ]
  },
  {
   "cell_type": "code",
   "execution_count": 91,
   "metadata": {},
   "outputs": [
    {
     "data": {
      "text/html": [
       "<div>\n",
       "<style scoped>\n",
       "    .dataframe tbody tr th:only-of-type {\n",
       "        vertical-align: middle;\n",
       "    }\n",
       "\n",
       "    .dataframe tbody tr th {\n",
       "        vertical-align: top;\n",
       "    }\n",
       "\n",
       "    .dataframe thead th {\n",
       "        text-align: right;\n",
       "    }\n",
       "</style>\n",
       "<table border=\"1\" class=\"dataframe\">\n",
       "  <thead>\n",
       "    <tr style=\"text-align: right;\">\n",
       "      <th></th>\n",
       "      <th>Residence_type</th>\n",
       "      <th>stroke</th>\n",
       "      <th>percent</th>\n",
       "    </tr>\n",
       "  </thead>\n",
       "  <tbody>\n",
       "    <tr>\n",
       "      <th>0</th>\n",
       "      <td>Rural</td>\n",
       "      <td>No</td>\n",
       "      <td>95.465394</td>\n",
       "    </tr>\n",
       "    <tr>\n",
       "      <th>1</th>\n",
       "      <td>Rural</td>\n",
       "      <td>Si</td>\n",
       "      <td>4.534606</td>\n",
       "    </tr>\n",
       "    <tr>\n",
       "      <th>2</th>\n",
       "      <td>Urbano</td>\n",
       "      <td>No</td>\n",
       "      <td>94.799692</td>\n",
       "    </tr>\n",
       "    <tr>\n",
       "      <th>3</th>\n",
       "      <td>Urbano</td>\n",
       "      <td>Si</td>\n",
       "      <td>5.200308</td>\n",
       "    </tr>\n",
       "  </tbody>\n",
       "</table>\n",
       "</div>"
      ],
      "text/plain": [
       "  Residence_type stroke    percent\n",
       "0          Rural     No  95.465394\n",
       "1          Rural     Si   4.534606\n",
       "2         Urbano     No  94.799692\n",
       "3         Urbano     Si   5.200308"
      ]
     },
     "execution_count": 91,
     "metadata": {},
     "output_type": "execute_result"
    }
   ],
   "source": [
    "(df.groupby('Residence_type')['stroke']\n",
    ".value_counts(normalize=True)\n",
    ".mul(100)\n",
    ".rename('percent')\n",
    ".reset_index()\n",
    ")"
   ]
  },
  {
   "cell_type": "markdown",
   "metadata": {},
   "source": [
    "Ocurre lo mismo que en los dos casos anteriores."
   ]
  },
  {
   "cell_type": "code",
   "execution_count": 93,
   "metadata": {},
   "outputs": [
    {
     "data": {
      "text/plain": [
       "<matplotlib.legend.Legend at 0x1f24856ec10>"
      ]
     },
     "execution_count": 93,
     "metadata": {},
     "output_type": "execute_result"
    },
    {
     "data": {
      "image/png": "[encoded data removed]",
      "text/plain": [
       "<Figure size 432x288 with 1 Axes>"
      ]
     },
     "metadata": {
      "needs_background": "light"
     },
     "output_type": "display_data"
    }
   ],
   "source": [
    "sns.countplot(data = df,\n",
    "              x = 'smoking_status',\n",
    "              hue='stroke'\n",
    "              )\n",
    "plt.title('Gráfico 12: Cantidad de pacientes qué les dio un ACV según su estado de fumador')\n",
    "plt.xlabel('Estado de fumador')\n",
    "plt.ylabel('Frecuencia absoluta')\n",
    "plt.legend(title='ACV', loc='upper left', labels=['Si', 'No'])"
   ]
  },
  {
   "cell_type": "code",
   "execution_count": 95,
   "metadata": {},
   "outputs": [
    {
     "data": {
      "text/html": [
       "<div>\n",
       "<style scoped>\n",
       "    .dataframe tbody tr th:only-of-type {\n",
       "        vertical-align: middle;\n",
       "    }\n",
       "\n",
       "    .dataframe tbody tr th {\n",
       "        vertical-align: top;\n",
       "    }\n",
       "\n",
       "    .dataframe thead th {\n",
       "        text-align: right;\n",
       "    }\n",
       "</style>\n",
       "<table border=\"1\" class=\"dataframe\">\n",
       "  <thead>\n",
       "    <tr style=\"text-align: right;\">\n",
       "      <th></th>\n",
       "      <th>stroke</th>\n",
       "      <th>smoking_status</th>\n",
       "      <th>percent</th>\n",
       "    </tr>\n",
       "  </thead>\n",
       "  <tbody>\n",
       "    <tr>\n",
       "      <th>0</th>\n",
       "      <td>No</td>\n",
       "      <td>Nunca fumó</td>\n",
       "      <td>37.070562</td>\n",
       "    </tr>\n",
       "    <tr>\n",
       "      <th>1</th>\n",
       "      <td>No</td>\n",
       "      <td>No se sabe</td>\n",
       "      <td>30.796132</td>\n",
       "    </tr>\n",
       "    <tr>\n",
       "      <th>2</th>\n",
       "      <td>No</td>\n",
       "      <td>Fumaba anteriormente</td>\n",
       "      <td>16.766098</td>\n",
       "    </tr>\n",
       "    <tr>\n",
       "      <th>3</th>\n",
       "      <td>No</td>\n",
       "      <td>Fuma</td>\n",
       "      <td>15.367208</td>\n",
       "    </tr>\n",
       "    <tr>\n",
       "      <th>4</th>\n",
       "      <td>Si</td>\n",
       "      <td>Nunca fumó</td>\n",
       "      <td>36.144578</td>\n",
       "    </tr>\n",
       "    <tr>\n",
       "      <th>5</th>\n",
       "      <td>Si</td>\n",
       "      <td>Fumaba anteriormente</td>\n",
       "      <td>28.112450</td>\n",
       "    </tr>\n",
       "    <tr>\n",
       "      <th>6</th>\n",
       "      <td>Si</td>\n",
       "      <td>No se sabe</td>\n",
       "      <td>18.875502</td>\n",
       "    </tr>\n",
       "    <tr>\n",
       "      <th>7</th>\n",
       "      <td>Si</td>\n",
       "      <td>Fuma</td>\n",
       "      <td>16.867470</td>\n",
       "    </tr>\n",
       "  </tbody>\n",
       "</table>\n",
       "</div>"
      ],
      "text/plain": [
       "  stroke        smoking_status    percent\n",
       "0     No            Nunca fumó  37.070562\n",
       "1     No            No se sabe  30.796132\n",
       "2     No  Fumaba anteriormente  16.766098\n",
       "3     No                  Fuma  15.367208\n",
       "4     Si            Nunca fumó  36.144578\n",
       "5     Si  Fumaba anteriormente  28.112450\n",
       "6     Si            No se sabe  18.875502\n",
       "7     Si                  Fuma  16.867470"
      ]
     },
     "execution_count": 95,
     "metadata": {},
     "output_type": "execute_result"
    }
   ],
   "source": [
    "(df.groupby('stroke')['smoking_status']\n",
    ".value_counts(normalize=True)\n",
    ".mul(100)\n",
    ".rename('percent')\n",
    ".reset_index()\n",
    ")"
   ]
  },
  {
   "cell_type": "markdown",
   "metadata": {},
   "source": [
    "En esta última tabla se puede observar que de los pacientes que sufrieron un ACV, hay un mayor porcentaje para los que fumaban anteriormente comparado con los que no sufrieron un ACV, pudiendo ser el ACV la causa de haber dejado de fumar, como una suposición."
   ]
  },
  {
   "cell_type": "markdown",
   "metadata": {},
   "source": [
    "# Análisis de posibles valores faltantes."
   ]
  },
  {
   "cell_type": "markdown",
   "metadata": {},
   "source": [
    "Se va a verificar si el dataset cuenta con presencia de valores ausentes."
   ]
  },
  {
   "cell_type": "code",
   "execution_count": 4,
   "metadata": {},
   "outputs": [
    {
     "name": "stdout",
     "output_type": "stream",
     "text": [
      "         id  gender   age hypertension heart_disease ever_married  \\\n",
      "1     51676   Mujer  61.0           No            No           Si   \n",
      "8     27419   Mujer  59.0           No            No           Si   \n",
      "13     8213  Hombre  78.0           No            Si           Si   \n",
      "19    25226  Hombre  57.0           No            Si           No   \n",
      "27    61843  Hombre  58.0           No            No           Si   \n",
      "...     ...     ...   ...          ...           ...          ...   \n",
      "5039  42007  Hombre  41.0           No            No           No   \n",
      "5048  28788  Hombre  40.0           No            No           Si   \n",
      "5093  32235   Mujer  45.0           Si            No           Si   \n",
      "5099   7293  Hombre  40.0           No            No           Si   \n",
      "5105  18234   Mujer  80.0           Si            No           Si   \n",
      "\n",
      "          work_type Residence_type  avg_glucose_level  bmi  \\\n",
      "1     Cuenta propia          Rural             202.21  NaN   \n",
      "8           Privado          Rural              76.15  NaN   \n",
      "13          Privado         Urbano             219.84  NaN   \n",
      "19         Govt_job         Urbano             217.08  NaN   \n",
      "27          Privado          Rural             189.84  NaN   \n",
      "...             ...            ...                ...  ...   \n",
      "5039        Privado          Rural              70.15  NaN   \n",
      "5048        Privado         Urbano             191.15  NaN   \n",
      "5093       Govt_job          Rural              95.02  NaN   \n",
      "5099        Privado          Rural              83.94  NaN   \n",
      "5105        Privado         Urbano              83.75  NaN   \n",
      "\n",
      "            smoking_status stroke  \n",
      "1               Nunca fumó     Si  \n",
      "8               No se sabe     Si  \n",
      "13              No se sabe     Si  \n",
      "19              No se sabe     Si  \n",
      "27              No se sabe     Si  \n",
      "...                    ...    ...  \n",
      "5039  Fumaba anteriormente     No  \n",
      "5048                  Fuma     No  \n",
      "5093                  Fuma     No  \n",
      "5099                  Fuma     No  \n",
      "5105            Nunca fumó     No  \n",
      "\n",
      "[201 rows x 12 columns]\n"
     ]
    }
   ],
   "source": [
    "# SE REVISA SI HAY VALORES FALTANTES EN EL DATAFRAME\n",
    "filas_con_na = df[df.isna().any(axis=1)]\n",
    "\n",
    "# Se imprime las filas con valores faltantes\n",
    "print(filas_con_na)"
   ]
  },
  {
   "cell_type": "markdown",
   "metadata": {},
   "source": [
    "Se puede observar que hay 201 filas con valores faltantes y al parecer todas, o la mayoría se debe a la variable correspondiente al índice de masa muscular. Se decide reemplazar estos valores por la mediana del índice de masa muscular."
   ]
  },
  {
   "cell_type": "code",
   "execution_count": 10,
   "metadata": {},
   "outputs": [],
   "source": [
    "mediana = df['bmi'].median()\n",
    "df['bmi'].fillna(mediana, inplace=True)\n"
   ]
  },
  {
   "cell_type": "code",
   "execution_count": null,
   "metadata": {},
   "outputs": [],
   "source": [
    "Se chequea si quedó algún valor nulo en otra variable."
   ]
  },
  {
   "cell_type": "code",
   "execution_count": 11,
   "metadata": {},
   "outputs": [
    {
     "name": "stdout",
     "output_type": "stream",
     "text": [
      "Empty DataFrame\n",
      "Columns: [id, gender, age, hypertension, heart_disease, ever_married, work_type, Residence_type, avg_glucose_level, bmi, smoking_status, stroke]\n",
      "Index: []\n"
     ]
    }
   ],
   "source": [
    "# SE REVISA SI HAY VALORES FALTANTES EN EL DATAFRAME\n",
    "filas_con_na = df[df.isna().any(axis=1)]\n",
    "\n",
    "# Se imprime las filas con valores faltantes\n",
    "print(filas_con_na)"
   ]
  },
  {
   "cell_type": "markdown",
   "metadata": {},
   "source": [
    "Se verifica que los valores nulos solo correspondían a la variable Índice de masa muscular."
   ]
  },
  {
   "cell_type": "markdown",
   "metadata": {},
   "source": [
    "# Feature selection"
   ]
  },
  {
   "cell_type": "markdown",
   "metadata": {},
   "source": [
    "# Algoritmo de clasificación"
   ]
  },
  {
   "cell_type": "markdown",
   "metadata": {},
   "source": [
    "# Métricas para validar el modelo"
   ]
  },
  {
   "cell_type": "markdown",
   "metadata": {},
   "source": [
    "# Conclusiones"
   ]
  }
 ],
 "metadata": {
  "kernelspec": {
   "display_name": "base",
   "language": "python",
   "name": "python3"
  },
  "language_info": {
   "codemirror_mode": {
    "name": "ipython",
    "version": 3
   },
   "file_extension": ".py",
   "mimetype": "text/x-python",
   "name": "python",
   "nbconvert_exporter": "python",
   "pygments_lexer": "ipython3",
   "version": "3.9.12"
  },
  "orig_nbformat": 4
 },
 "nbformat": 4,
 "nbformat_minor": 2
}
